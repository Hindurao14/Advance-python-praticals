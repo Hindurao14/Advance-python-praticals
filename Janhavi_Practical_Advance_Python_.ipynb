{
  "nbformat": 4,
  "nbformat_minor": 0,
  "metadata": {
    "colab": {
      "provenance": []
    },
    "kernelspec": {
      "name": "python3",
      "display_name": "Python 3"
    },
    "language_info": {
      "name": "python"
    }
  },
  "cells": [
    {
      "cell_type": "code",
      "source": [
        "# 1. Dictionary Comprehension Exercise\n",
        "squares = {x: x**2 for x in range(1, 11)}\n",
        "print(\"Dictionary of squares:\", squares)\n",
        "\n"
      ],
      "metadata": {
        "colab": {
          "base_uri": "https://localhost:8080/"
        },
        "id": "RDnv8200wwaY",
        "outputId": "50e63f9b-73aa-4aca-9f16-bf55eb7bb112"
      },
      "execution_count": 2,
      "outputs": [
        {
          "output_type": "stream",
          "name": "stdout",
          "text": [
            "Dictionary of squares: {1: 1, 2: 4, 3: 9, 4: 16, 5: 25, 6: 36, 7: 49, 8: 64, 9: 81, 10: 100}\n"
          ]
        }
      ]
    },
    {
      "cell_type": "code",
      "source": [
        "# 2. List Comprehension Exercise\n",
        "even_numbers = [x for x in range(1, 21) if x % 2 == 0]\n",
        "print(\"List of even numbers:\", even_numbers)"
      ],
      "metadata": {
        "colab": {
          "base_uri": "https://localhost:8080/"
        },
        "id": "MhjZQRQHsPl7",
        "outputId": "235e7b0b-5552-4206-c14e-4a56a714d435"
      },
      "execution_count": 3,
      "outputs": [
        {
          "output_type": "stream",
          "name": "stdout",
          "text": [
            "List of even numbers: [2, 4, 6, 8, 10, 12, 14, 16, 18, 20]\n"
          ]
        }
      ]
    },
    {
      "cell_type": "code",
      "source": [
        "# 3. Nested Dictionary Comprehension\n",
        "nested_dict = {(x, y): x + y for x in range(2) for y in range(2)}\n",
        "print(\"Nested dictionary:\", nested_dict)\n"
      ],
      "metadata": {
        "colab": {
          "base_uri": "https://localhost:8080/"
        },
        "id": "ySEs_CZIshMn",
        "outputId": "ec412532-9255-4ebd-f9b2-120c399d767d"
      },
      "execution_count": 4,
      "outputs": [
        {
          "output_type": "stream",
          "name": "stdout",
          "text": [
            "Nested dictionary: {(0, 0): 0, (0, 1): 1, (1, 0): 1, (1, 1): 2}\n"
          ]
        }
      ]
    },
    {
      "cell_type": "code",
      "source": [
        "# 4. Lambda and filter()\n",
        "numbers = list(range(1, 11))\n",
        "odd_numbers = list(filter(lambda x: x % 2 != 0, numbers))\n",
        "print(\"Filtered odd numbers:\", odd_numbers)"
      ],
      "metadata": {
        "colab": {
          "base_uri": "https://localhost:8080/"
        },
        "id": "Sri8x-ipsfWz",
        "outputId": "105fd681-26e5-4659-f568-1e48bf9b7082"
      },
      "execution_count": 5,
      "outputs": [
        {
          "output_type": "stream",
          "name": "stdout",
          "text": [
            "Filtered odd numbers: [1, 3, 5, 7, 9]\n"
          ]
        }
      ]
    },
    {
      "cell_type": "code",
      "source": [
        "# 5. Email Validation\n",
        "import re\n",
        "def validate_email(email):\n",
        "    pattern = r'^[a-zA-Z0-9_.+-]+@[a-zA-Z0-9-]+\\.[a-zA-Z0-9-.]+$'\n",
        "    if re.match(pattern, email):\n",
        "        print(\"Valid Email\")\n",
        "    else:\n",
        "        print(\"Invalid Email\")\n",
        "\n",
        "# Test Email Validation\n",
        "validate_email(\"example@example.com\")\n"
      ],
      "metadata": {
        "colab": {
          "base_uri": "https://localhost:8080/"
        },
        "id": "yqRvAsynsdfz",
        "outputId": "9ef9d48b-933f-4e73-c2a8-8cdbd2cdf7fe"
      },
      "execution_count": 6,
      "outputs": [
        {
          "output_type": "stream",
          "name": "stdout",
          "text": [
            "Valid Email\n"
          ]
        }
      ]
    },
    {
      "cell_type": "code",
      "source": [
        "# 6. Password Strength Checker\n",
        "def validate_password(password):\n",
        "    pattern = r'^(?=.*[a-z])(?=.*[A-Z])(?=.*\\d)(?=.*[@$!%*?&])[A-Za-z\\d@$!%*?&]{8,18}$'\n",
        "    if re.match(pattern, password):\n",
        "        print(\"Valid Password\")\n",
        "    else:\n",
        "        print(\"Invalid Password\")\n",
        "\n",
        "# Test Password Validation\n",
        "validate_password(\"StrongPass1!\")"
      ],
      "metadata": {
        "colab": {
          "base_uri": "https://localhost:8080/"
        },
        "id": "hTR2Gb-3sbsd",
        "outputId": "f875e76d-d36c-4ca6-9fca-f4b447532117"
      },
      "execution_count": 7,
      "outputs": [
        {
          "output_type": "stream",
          "name": "stdout",
          "text": [
            "Valid Password\n"
          ]
        }
      ]
    },
    {
      "cell_type": "code",
      "source": [
        "# 7. Extracting URLs\n",
        "def extract_urls(text):\n",
        "    pattern = r'https?://[^\\s]+'\n",
        "    urls = re.findall(pattern, text)\n",
        "    return urls\n",
        "\n",
        "# Test URL Extraction\n",
        "sample_text = \"Visit https://example.com and http://test.com for more details.\"\n",
        "print(\"Extracted URLs:\", extract_urls(sample_text))"
      ],
      "metadata": {
        "colab": {
          "base_uri": "https://localhost:8080/"
        },
        "id": "-NnME6QnsaK3",
        "outputId": "8352b321-8074-4000-9dbb-197d314ab096"
      },
      "execution_count": 8,
      "outputs": [
        {
          "output_type": "stream",
          "name": "stdout",
          "text": [
            "Extracted URLs: ['https://example.com', 'http://test.com']\n"
          ]
        }
      ]
    },
    {
      "cell_type": "code",
      "source": [
        "# 8. UPI ID Validator\n",
        "def validate_upi(upi_id):\n",
        "    pattern = r'^[^\\s@]+@[^\\s@]+$'\n",
        "    if re.match(pattern, upi_id):\n",
        "        print(\"Valid UPI ID\")\n",
        "    else:\n",
        "        print(\"Invalid UPI ID\")\n",
        "\n",
        "# Test UPI Validation\n",
        "validate_upi(\"user@bank\")"
      ],
      "metadata": {
        "colab": {
          "base_uri": "https://localhost:8080/"
        },
        "id": "h_dwcN9VsX7S",
        "outputId": "c679e328-c2fd-4f98-84b8-ff55682aeefd"
      },
      "execution_count": 9,
      "outputs": [
        {
          "output_type": "stream",
          "name": "stdout",
          "text": [
            "Valid UPI ID\n"
          ]
        }
      ]
    },
    {
      "cell_type": "code",
      "source": [
        "# 9. Bank Account Class\n",
        "class BankAccount:\n",
        "    def __init__(self, account_number, name, balance=0):\n",
        "        self.account_number = account_number\n",
        "        self.name = name\n",
        "        self.balance = balance\n",
        "\n",
        "    def deposit(self, amount):\n",
        "        self.balance += amount\n",
        "\n",
        "    def withdraw(self, amount):\n",
        "        if self.balance >= amount:\n",
        "            self.balance -= amount\n",
        "        else:\n",
        "            print(\"Insufficient balance\")\n"
      ],
      "metadata": {
        "id": "rGc6l1H3sV_H"
      },
      "execution_count": 10,
      "outputs": []
    },
    {
      "cell_type": "code",
      "source": [
        "\n",
        "# 10. Inheritance Example\n",
        "class Person:\n",
        "    def __init__(self, name, age):\n",
        "        self.name = name\n",
        "        self.age = age\n",
        "\n",
        "class Student(Person):\n",
        "    def __init__(self, name, age, student_id):\n",
        "        super().__init__(name, age)\n",
        "        self.student_id = student_id\n",
        "\n",
        "    def display_details(self):\n",
        "        print(f\"Name: {self.name}, Age: {self.age}, ID: {self.student_id}\")\n",
        "\n"
      ],
      "metadata": {
        "id": "QQgSeX2MsUJc"
      },
      "execution_count": 11,
      "outputs": []
    },
    {
      "cell_type": "code",
      "source": [
        "# 11. Polymorphism with Shapes\n",
        "class Shape:\n",
        "    def area(self):\n",
        "        pass\n",
        "\n",
        "class Circle(Shape):\n",
        "    def __init__(self, radius):\n",
        "        self.radius = radius\n",
        "\n",
        "    def area(self):\n",
        "        return 3.14 * self.radius**2\n",
        "\n",
        "class Square(Shape):\n",
        "    def __init__(self, side):\n",
        "        self.side = side\n",
        "\n",
        "    def area(self):\n",
        "        return self.side**2\n",
        "\n",
        "circle = Circle(5)\n",
        "square = Square(4)\n",
        "print(\"Circle area:\", circle.area())\n",
        "print(\"Square area:\", square.area())"
      ],
      "metadata": {
        "colab": {
          "base_uri": "https://localhost:8080/"
        },
        "id": "cQRQ3ZdtsRr_",
        "outputId": "ea74dd52-801e-4542-e46b-0199be213de4"
      },
      "execution_count": 12,
      "outputs": [
        {
          "output_type": "stream",
          "name": "stdout",
          "text": [
            "Circle area: 78.5\n",
            "Square area: 16\n"
          ]
        }
      ]
    }
  ]
}